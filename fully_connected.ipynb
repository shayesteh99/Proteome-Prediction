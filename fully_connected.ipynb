{
  "nbformat": 4,
  "nbformat_minor": 0,
  "metadata": {
    "colab": {
      "name": "fully connected.ipynb",
      "provenance": [],
      "collapsed_sections": [],
      "include_colab_link": true
    },
    "kernelspec": {
      "display_name": "Python 3",
      "name": "python3"
    },
    "accelerator": "GPU"
  },
  "cells": [
    {
      "cell_type": "markdown",
      "metadata": {
        "id": "view-in-github",
        "colab_type": "text"
      },
      "source": [
        "<a href=\"https://colab.research.google.com/github/shayesteh99/Proteome-Prediction/blob/main/fully_connected.ipynb\" target=\"_parent\"><img src=\"https://colab.research.google.com/assets/colab-badge.svg\" alt=\"Open In Colab\"/></a>"
      ]
    },
    {
      "cell_type": "code",
      "metadata": {
        "id": "SNwiFBoa_9U3"
      },
      "source": [
        "import pandas as pd\n",
        "from datetime import datetime\n",
        "import numpy as np\n",
        "from sklearn.linear_model import LinearRegression\n",
        "from sklearn.metrics import mean_squared_error, mean_absolute_error\n",
        "import matplotlib.pyplot as plt\n",
        "from sklearn.preprocessing import normalize\n",
        "import xgboost as xgb\n",
        "from sklearn.model_selection import train_test_split"
      ],
      "execution_count": null,
      "outputs": []
    },
    {
      "cell_type": "code",
      "metadata": {
        "id": "zl0ZjU1BVw1y"
      },
      "source": [
        "!pip install -U -q PyDrive\n",
        "from pydrive.auth import GoogleAuth\n",
        "from pydrive.drive import GoogleDrive\n",
        "from google.colab import auth\n",
        "from oauth2client.client import GoogleCredentials# Authenticate and create the PyDrive client.\n",
        "import pandas as pd\n",
        "\n",
        "auth.authenticate_user()\n",
        "gauth = GoogleAuth()\n",
        "gauth.credentials = GoogleCredentials.get_application_default()\n",
        "drive = GoogleDrive(gauth)"
      ],
      "execution_count": null,
      "outputs": []
    },
    {
      "cell_type": "code",
      "metadata": {
        "id": "DAKzqYAOWMqT"
      },
      "source": [
        "id = \"1-f4bTkNO4VI7yjDmipTySOGL18KA3-aI\"\n",
        "downloaded = drive.CreateFile({'id':id}) \n",
        "downloaded.GetContentFile('gene.train.csv')\n",
        "gene1 = pd.read_csv('gene.train.csv')"
      ],
      "execution_count": null,
      "outputs": []
    },
    {
      "cell_type": "code",
      "metadata": {
        "id": "cJKRIBcSWiI9"
      },
      "source": [
        "gene_train = gene1.drop(columns = [\"Cancer_Type\", \"Sample_ID\"])"
      ],
      "execution_count": null,
      "outputs": []
    },
    {
      "cell_type": "code",
      "metadata": {
        "colab": {
          "base_uri": "https://localhost:8080/"
        },
        "id": "u_Y_dAEFEaAv",
        "outputId": "122a215c-0bfc-4b6f-ab8e-7527d8ebbc09"
      },
      "source": [
        "gene_train.head"
      ],
      "execution_count": null,
      "outputs": [
        {
          "output_type": "execute_result",
          "data": {
            "text/plain": [
              "<bound method NDFrame.head of       ENSG00000141510  ENSG00000155657  ...  ENSG00000277957  ENSG00000258453\n",
              "0            3.038108         0.060619  ...         0.032929              0.0\n",
              "1            3.346721         0.052940  ...         0.095788              0.0\n",
              "2            2.043045         0.194234  ...         0.015251              0.0\n",
              "3            3.139093         0.120746  ...         0.000000              0.0\n",
              "4            3.574059         0.089624  ...         0.021285              0.0\n",
              "...               ...              ...  ...              ...              ...\n",
              "5733         4.899541         0.144547  ...         0.045017              0.0\n",
              "5734         4.481275         0.248651  ...         0.008160              0.0\n",
              "5735         4.588105         0.021127  ...         0.014531              0.0\n",
              "5736         4.457775         0.022709  ...         0.027554              0.0\n",
              "5737         4.980895         0.122636  ...         0.042833              0.0\n",
              "\n",
              "[5738 rows x 19420 columns]>"
            ]
          },
          "metadata": {
            "tags": []
          },
          "execution_count": 5
        }
      ]
    },
    {
      "cell_type": "code",
      "metadata": {
        "id": "l65_jUUoeFXA"
      },
      "source": [
        "id = \"1Yg4vE4DCvVxQQ3lftzAf-OcFiV3K0InM\"\n",
        "downloaded = drive.CreateFile({'id':id}) \n",
        "downloaded.GetContentFile('gene.valid.csv')\n",
        "gene2 = pd.read_csv('gene.valid.csv')"
      ],
      "execution_count": null,
      "outputs": []
    },
    {
      "cell_type": "code",
      "metadata": {
        "id": "kqsech7oeQ1Y"
      },
      "source": [
        "gene_test = gene2.drop(columns = [\"Cancer_Type\", \"Sample_ID\"])"
      ],
      "execution_count": null,
      "outputs": []
    },
    {
      "cell_type": "code",
      "metadata": {
        "id": "AoTu67epXiGt"
      },
      "source": [
        "id = '1kHr-g60285ylV5VNJQpAnqfXWJC9pWUy'\n",
        "downloaded = drive.CreateFile({'id':id}) \n",
        "downloaded.GetContentFile('pro.train.csv')\n",
        "pro1 = pd.read_csv('pro.train.csv')"
      ],
      "execution_count": null,
      "outputs": []
    },
    {
      "cell_type": "code",
      "metadata": {
        "id": "7sPyD_IdX6H-",
        "colab": {
          "base_uri": "https://localhost:8080/"
        },
        "outputId": "040e5c29-cc1c-4608-cfea-af184f88d6a5"
      },
      "source": [
        "lable_train = list(pro1.Cancer_Type)\n",
        "pro_train = pro1.drop(columns = [\"Cancer_Type\", \"Sample_ID\"])\n",
        "print(len(set(lable_train)))"
      ],
      "execution_count": null,
      "outputs": [
        {
          "output_type": "stream",
          "text": [
            "32\n"
          ],
          "name": "stdout"
        }
      ]
    },
    {
      "cell_type": "code",
      "metadata": {
        "id": "eS1Go7Zuej8x"
      },
      "source": [
        "id = '1JHJEPZi5OJkMjieZT8rcSb9W8bzRPQbg'\n",
        "downloaded = drive.CreateFile({'id':id}) \n",
        "downloaded.GetContentFile('pro.valid.csv')\n",
        "pro2 = pd.read_csv('pro.valid.csv')"
      ],
      "execution_count": null,
      "outputs": []
    },
    {
      "cell_type": "code",
      "metadata": {
        "id": "qpNAc4Djez20"
      },
      "source": [
        "lable_test = list(pro2.Cancer_Type)\n",
        "pro_test = pro2.drop(columns = [\"Cancer_Type\", \"Sample_ID\"])"
      ],
      "execution_count": null,
      "outputs": []
    },
    {
      "cell_type": "code",
      "metadata": {
        "id": "L3rsf-XGX-qp"
      },
      "source": [
        "from sklearn.preprocessing import LabelEncoder\n",
        "import numpy as np\n",
        "\n",
        "le = LabelEncoder()\n",
        "lable1 = np.ravel(lable_train)\n",
        "le.fit(lable1)\n",
        "lable1 = le.transform(lable1)\n",
        "\n",
        "le = LabelEncoder()\n",
        "lable2 = np.ravel(lable_test)\n",
        "le.fit(lable2)\n",
        "lable2 = le.transform(lable2)\n"
      ],
      "execution_count": null,
      "outputs": []
    },
    {
      "cell_type": "code",
      "metadata": {
        "id": "DxQmmO8rYClc",
        "colab": {
          "base_uri": "https://localhost:8080/"
        },
        "outputId": "306b9b87-c67a-4358-adfd-f54db42510c2"
      },
      "source": [
        "from keras.utils import np_utils\n",
        "cat1 = np_utils.to_categorical(lable1)\n",
        "cat1 = pd.DataFrame({'tag' + str(i) : cat1[:, i]for i in range(len(cat1[0]))})\n",
        "cat_train = cat1[:gene_train.shape[0]]\n",
        "print(cat_train)\n",
        "\n",
        "cat2 = np_utils.to_categorical(lable2)\n",
        "cat2 = pd.DataFrame({'tag' + str(i) : cat2[:, i]for i in range(len(cat2[0]))})\n",
        "cat_test = cat2[:gene_test.shape[0]]\n",
        "print(cat_test)"
      ],
      "execution_count": null,
      "outputs": [
        {
          "output_type": "stream",
          "text": [
            "      tag0  tag1  tag2  tag3  tag4  ...  tag27  tag28  tag29  tag30  tag31\n",
            "0      1.0   0.0   0.0   0.0   0.0  ...    0.0    0.0    0.0    0.0    0.0\n",
            "1      1.0   0.0   0.0   0.0   0.0  ...    0.0    0.0    0.0    0.0    0.0\n",
            "2      1.0   0.0   0.0   0.0   0.0  ...    0.0    0.0    0.0    0.0    0.0\n",
            "3      1.0   0.0   0.0   0.0   0.0  ...    0.0    0.0    0.0    0.0    0.0\n",
            "4      1.0   0.0   0.0   0.0   0.0  ...    0.0    0.0    0.0    0.0    0.0\n",
            "...    ...   ...   ...   ...   ...  ...    ...    ...    ...    ...    ...\n",
            "5733   0.0   0.0   0.0   0.0   0.0  ...    0.0    0.0    0.0    0.0    1.0\n",
            "5734   0.0   0.0   0.0   0.0   0.0  ...    0.0    0.0    0.0    0.0    1.0\n",
            "5735   0.0   0.0   0.0   0.0   0.0  ...    0.0    0.0    0.0    0.0    1.0\n",
            "5736   0.0   0.0   0.0   0.0   0.0  ...    0.0    0.0    0.0    0.0    1.0\n",
            "5737   0.0   0.0   0.0   0.0   0.0  ...    0.0    0.0    0.0    0.0    1.0\n",
            "\n",
            "[5738 rows x 32 columns]\n",
            "     tag0  tag1  tag2  tag3  tag4  ...  tag27  tag28  tag29  tag30  tag31\n",
            "0     1.0   0.0   0.0   0.0   0.0  ...    0.0    0.0    0.0    0.0    0.0\n",
            "1     1.0   0.0   0.0   0.0   0.0  ...    0.0    0.0    0.0    0.0    0.0\n",
            "2     1.0   0.0   0.0   0.0   0.0  ...    0.0    0.0    0.0    0.0    0.0\n",
            "3     1.0   0.0   0.0   0.0   0.0  ...    0.0    0.0    0.0    0.0    0.0\n",
            "4     1.0   0.0   0.0   0.0   0.0  ...    0.0    0.0    0.0    0.0    0.0\n",
            "..    ...   ...   ...   ...   ...  ...    ...    ...    ...    ...    ...\n",
            "668   0.0   0.0   0.0   0.0   0.0  ...    0.0    0.0    0.0    1.0    0.0\n",
            "669   0.0   0.0   0.0   0.0   0.0  ...    0.0    0.0    0.0    1.0    0.0\n",
            "670   0.0   0.0   0.0   0.0   0.0  ...    0.0    0.0    0.0    1.0    0.0\n",
            "671   0.0   0.0   0.0   0.0   0.0  ...    0.0    0.0    0.0    0.0    1.0\n",
            "672   0.0   0.0   0.0   0.0   0.0  ...    0.0    0.0    0.0    0.0    1.0\n",
            "\n",
            "[673 rows x 32 columns]\n"
          ],
          "name": "stdout"
        }
      ]
    },
    {
      "cell_type": "code",
      "metadata": {
        "id": "3_84Z7ERZTx4",
        "colab": {
          "base_uri": "https://localhost:8080/"
        },
        "outputId": "339b7188-e72a-48b6-ccf5-5ca2fbf2b711"
      },
      "source": [
        "from keras.layers import Input, Dense, BatchNormalization, Lambda, GaussianNoise, GaussianDropout, Add\n",
        "from keras.models import Model\n",
        "import keras.backend as backend\n",
        "import numpy as np\n",
        "import keras\n",
        "from sklearn.preprocessing import LabelEncoder, normalize\n",
        "from keras.utils import np_utils\n",
        "import pandas as pd\n",
        "import tensorflow.compat.v1 as tf\n",
        "tf.disable_v2_behavior()\n",
        "with tf.Session() as sess:\n",
        "     sess.run(tf.global_variables_initializer())\n",
        "import time"
      ],
      "execution_count": null,
      "outputs": [
        {
          "output_type": "stream",
          "text": [
            "WARNING:tensorflow:From /usr/local/lib/python3.7/dist-packages/tensorflow/python/compat/v2_compat.py:96: disable_resource_variables (from tensorflow.python.ops.variable_scope) is deprecated and will be removed in a future version.\n",
            "Instructions for updating:\n",
            "non-resource variables are not supported in the long term\n"
          ],
          "name": "stdout"
        }
      ]
    },
    {
      "cell_type": "code",
      "metadata": {
        "id": "p1o41r2VZxm1"
      },
      "source": [
        "def model(m_rna_train, pro_train,label_train, m_rna_test, pro_test, label_test):\n",
        "        opt = keras.optimizers.Nadam(learning_rate=1e-3)\n",
        "\n",
        "        inputs = Input(shape=(m_rna_train.shape[1],), name=\"inputs\")\n",
        "        inputs_noise = GaussianNoise(stddev=0.25)(inputs)\n",
        "        inputs_noise = GaussianDropout(rate=0.5 ** 2 / (1 + 0.5 ** 2))(inputs_noise)\n",
        "        inputs_0 = BatchNormalization(name=\"inputs_0\")(inputs_noise)\n",
        "        inputs_1 = Dense(2048, activation=\"relu\", name=\"inputs_1\")(inputs_0)\n",
        "        inputs_2 = BatchNormalization(name=\"inputs_2\")(inputs_1)\n",
        "        drop1 = GaussianDropout(rate=0.5 ** 2 / (1 + 0.5 ** 2))(inputs_2)\n",
        "        inputs_3 = Dense(1024, activation=\"relu\", name=\"inputs_3\")(drop1)\n",
        "        inputs_4 = BatchNormalization(name=\"inputs_4\")(inputs_3)\n",
        "        drop2 = GaussianDropout(rate=0.5 ** 2 / (1 + 0.5 ** 2))(inputs_4)\n",
        "        inputs_5 = Dense(512, activation=\"relu\", name=\"inputs_5\")(drop2)\n",
        "        inputs_6 = BatchNormalization(name=\"inputs_6\")(inputs_5)\n",
        "        drop3 = GaussianDropout(rate=0.5 ** 2 / (1 + 0.5 ** 2))(inputs_6)\n",
        "        inputs_7 = Dense(256, activation=\"relu\", name=\"inputs_7\")(drop3)\n",
        "        inputs_8 = BatchNormalization(name=\"inputs_8\")(inputs_7)\n",
        "        drop4 = GaussianDropout(rate=0.5 ** 2 / (1 + 0.5 ** 2))(inputs_8)\n",
        "\n",
        "\n",
        "        decoded_micro_rna = Dense(units=pro_train.shape[1], activation='linear', name=\"pro\")(drop4)\n",
        "\n",
        "        scae = Model(inputs=inputs, outputs=[decoded_micro_rna])\n",
        "        lambda_value = 2.7849e-3\n",
        "\n",
        "        scae.compile(optimizer=opt,\n",
        "                     loss=[\"mse\"])\n",
        "        \n",
        "        history = scae.fit([m_rna_train], [pro_train],\n",
        "                 batch_size=128, epochs=200, verbose=1, shuffle = True)\n",
        "        score = scae.evaluate(m_rna_test, [pro_test], verbose=1,\n",
        "                              batch_size=128)\n",
        "        pred_pro = scae.predict(m_rna_test, verbose=1,\n",
        "                              batch_size=128)\n",
        "        pred_train = scae.predict(m_rna_train, verbose=1,\n",
        "                              batch_size=128)\n",
        "        return pred_train, pred_pro, score, history\n"
      ],
      "execution_count": null,
      "outputs": []
    },
    {
      "cell_type": "code",
      "metadata": {
        "colab": {
          "base_uri": "https://localhost:8080/"
        },
        "id": "cSYx3k69g8Ws",
        "outputId": "692f5ecf-fe29-4b5a-f360-2cd572d4ec32"
      },
      "source": [
        "print(gene_train.shape, gene_test.shape)\n",
        "print(pro_train.shape, pro_test.shape)"
      ],
      "execution_count": null,
      "outputs": [
        {
          "output_type": "stream",
          "text": [
            "(5738, 19420) (673, 19420)\n",
            "(5738, 216) (673, 216)\n"
          ],
          "name": "stdout"
        }
      ]
    },
    {
      "cell_type": "code",
      "metadata": {
        "id": "i-zdkPKInLQJ"
      },
      "source": [
        "import math\n",
        "\n",
        "train_y = pro_train.to_numpy()\n",
        "test_y = pro_test.to_numpy()\n",
        "label_train = np.array(cat_train)\n",
        "label_test = np.array(cat_test)\n",
        "\n",
        "train_x_log=np.log2(gene_train)\n",
        "train_x_log1=train_x_log.replace(to_replace = np.nan, value =0.00)\n",
        "train_x_log2=train_x_log1.replace(to_replace =-math.inf, value =0.0000)\n",
        "arr=[]\n",
        "for i in np.arange(train_x_log2.shape[1]):\n",
        "  idx=(train_x_log2.iloc[:,i]==0.0)\n",
        "  arr.append(len(train_x_log2.iloc[:,i][idx]))\n",
        "arr_idx=[]\n",
        "for i in np.arange(train_x_log2.shape[1]):\n",
        "  if arr[i]<=3000:\n",
        "    arr_idx.append(train_x_log2.columns[i])\n",
        "train_x_log3=train_x_log2[arr_idx]\n",
        "val_x_log=np.log2(gene_test)\n",
        "val_x_log1=val_x_log.replace(to_replace =-math.inf, value =0.0000)\n",
        "val_x_log2=val_x_log1.replace(to_replace = np.nan, value =0.00)\n",
        "val_x_log3=val_x_log2[arr_idx]\n",
        "val_x_log3 = val_x_log3\n",
        "print(val_x_log3.shape)\n",
        "print(train_x_log3.shape)\n",
        "print(test_y.shape)\n",
        "print(train_y.shape)\n",
        "pred_train, pred_pro, score, history = model(train_x_log3, train_y, label_train, val_x_log3, test_y, label_test)\n",
        "\n",
        "print(score)\n",
        "print(len(gene_test))"
      ],
      "execution_count": null,
      "outputs": []
    },
    {
      "cell_type": "code",
      "metadata": {
        "id": "2PqJqtqlcfRA",
        "colab": {
          "base_uri": "https://localhost:8080/"
        },
        "outputId": "4a4b9287-bc48-4868-e689-68c05efa65c4"
      },
      "source": [
        "from sklearn.metrics import mean_squared_error,median_absolute_error,mean_absolute_error,explained_variance_score,r2_score\n",
        "from math import sqrt\n",
        "print(\"explained_variance_score\",explained_variance_score(test_y,pred_pro))\n",
        "print(\"median_absolute_error\",median_absolute_error(test_y,pred_pro))\n",
        "print(\"r2_score\",r2_score(test_y,pred_pro))\n",
        "print(\"RMSE\",sqrt(mean_squared_error(test_y,pred_pro)))\n",
        "print(\"mean_absolute_error\",mean_absolute_error(test_y,pred_pro))\n",
        "print(\"mean_squared_error\",mean_squared_error(test_y,pred_pro))"
      ],
      "execution_count": null,
      "outputs": [
        {
          "output_type": "stream",
          "text": [
            "explained_variance_score 0.45825268163670685\n",
            "median_absolute_error 0.20805213921870377\n",
            "r2_score 0.45399121369580786\n",
            "RMSE 0.434131167507341\n",
            "mean_absolute_error 0.2817359740829059\n",
            "mean_squared_error 0.18846987060128695\n"
          ],
          "name": "stdout"
        }
      ]
    },
    {
      "cell_type": "code",
      "metadata": {
        "colab": {
          "base_uri": "https://localhost:8080/"
        },
        "id": "OWeWXO63V8hP",
        "outputId": "62481d63-ab5d-4acf-8151-fdbfb6204db0"
      },
      "source": [
        "def get_rankMean(test,predict):\n",
        "    p = predict\n",
        "    rank  = 0\n",
        "    for k in range(len(p)):\n",
        "        temp = np.vstack((test, p[k]))\n",
        "        for i in range(temp.shape[0]):\n",
        "            temp[i] = np.subtract(temp[i], test[k])\n",
        "        temp = np.square(temp)\n",
        "        sum = temp.sum(axis = 1)\n",
        "        #print(sum[1558])\n",
        "        arr = []\n",
        "        for i in range(len(sum)):\n",
        "            arr.append((sum[i], i))\n",
        "        arr = sorted(arr, key=lambda x: x[0])\n",
        "        for i in range(len(arr)):\n",
        "            if arr[i][1] == len(p):\n",
        "                rank += i\n",
        "                break\n",
        "    rank /= len(p)\n",
        "    #len(p)\n",
        "    return rank\n",
        "val=test_y\n",
        "predict1=pred_pro\n",
        "get_rankMean(val,predict1)"
      ],
      "execution_count": null,
      "outputs": [
        {
          "output_type": "execute_result",
          "data": {
            "text/plain": [
              "2.6300148588410104"
            ]
          },
          "metadata": {
            "tags": []
          },
          "execution_count": 22
        }
      ]
    },
    {
      "cell_type": "code",
      "metadata": {
        "id": "8MDHvvr7cuhJ",
        "colab": {
          "base_uri": "https://localhost:8080/"
        },
        "outputId": "c0221aac-877f-4546-a49a-8eed22999f18"
      },
      "source": [
        "\n",
        "# print(\"explained_variance_score\",explained_variance_score(train_y,pred_train))\n",
        "# print(\"median_absolute_error\",median_absolute_error(train_y,pred_train))\n",
        "print(\"r2_score\",r2_score(train_y,pred_train))\n",
        "# print(\"RMSE\",sqrt(mean_squared_error(train_y,pred_train)))\n",
        "# print(\"mean_absolute_error\",mean_absolute_error(train_y,pred_train))\n",
        "print(\"mean_squared_error\",mean_squared_error(train_y,pred_train))"
      ],
      "execution_count": null,
      "outputs": [
        {
          "output_type": "stream",
          "text": [
            "explained_variance_score 0.786911655634134\n",
            "median_absolute_error 0.12227174561262541\n",
            "r2_score 0.786783842186189\n",
            "RMSE 0.21464224459061315\n",
            "mean_absolute_error 0.15663965116354817\n",
            "mean_squared_error 0.046071293162896605\n"
          ],
          "name": "stdout"
        }
      ]
    }
  ]
}