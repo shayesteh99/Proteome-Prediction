{
  "nbformat": 4,
  "nbformat_minor": 0,
  "metadata": {
    "colab": {
      "name": "XGBoost",
      "provenance": [],
      "collapsed_sections": [],
      "include_colab_link": true
    },
    "kernelspec": {
      "display_name": "Python 3",
      "name": "python3"
    }
  },
  "cells": [
    {
      "cell_type": "markdown",
      "metadata": {
        "id": "view-in-github",
        "colab_type": "text"
      },
      "source": [
        "<a href=\"https://colab.research.google.com/github/shayesteh99/Proteome-Prediction/blob/main/XGBoost.ipynb\" target=\"_parent\"><img src=\"https://colab.research.google.com/assets/colab-badge.svg\" alt=\"Open In Colab\"/></a>"
      ]
    },
    {
      "cell_type": "code",
      "metadata": {
        "id": "lfeD_SqSx_U6"
      },
      "source": [
        "import pandas as pd\n",
        "from datetime import datetime\n",
        "import numpy as np\n",
        "from sklearn.linear_model import LinearRegression\n",
        "from sklearn.metrics import mean_squared_error, mean_absolute_error\n",
        "import matplotlib.pyplot as plt\n",
        "from sklearn.preprocessing import normalize\n",
        "import xgboost as xgb\n",
        "from sklearn.model_selection import train_test_split\n",
        "from tensorflow import keras"
      ],
      "execution_count": null,
      "outputs": []
    },
    {
      "cell_type": "code",
      "metadata": {
        "id": "vQ7kk50JyHG8"
      },
      "source": [
        "!pip install -U -q PyDrive\n",
        "from pydrive.auth import GoogleAuth\n",
        "from pydrive.drive import GoogleDrive\n",
        "from google.colab import auth\n",
        "from oauth2client.client import GoogleCredentials# Authenticate and create the PyDrive client.\n",
        "\n",
        "auth.authenticate_user()\n",
        "gauth = GoogleAuth()\n",
        "gauth.credentials = GoogleCredentials.get_application_default()\n",
        "drive = GoogleDrive(gauth)"
      ],
      "execution_count": null,
      "outputs": []
    },
    {
      "cell_type": "code",
      "metadata": {
        "id": "LrmFFFSEteh_"
      },
      "source": [
        "id = \"1-f4bTkNO4VI7yjDmipTySOGL18KA3-aI\"\n",
        "downloaded = drive.CreateFile({'id':id}) \n",
        "downloaded.GetContentFile('gene.train.csv')\n",
        "gene1 = pd.read_csv('gene.train.csv')"
      ],
      "execution_count": null,
      "outputs": []
    },
    {
      "cell_type": "code",
      "metadata": {
        "id": "wRGqbvc0tg_g"
      },
      "source": [
        "gene_train = gene1.drop(columns = [\"Cancer_Type\", \"Sample_ID\"])"
      ],
      "execution_count": null,
      "outputs": []
    },
    {
      "cell_type": "code",
      "metadata": {
        "id": "CSGOWBcSbV6I"
      },
      "source": [
        "id = \"1Yg4vE4DCvVxQQ3lftzAf-OcFiV3K0InM\"\n",
        "downloaded = drive.CreateFile({'id':id}) \n",
        "downloaded.GetContentFile('gene.valid.csv')\n",
        "gene2 = pd.read_csv('gene.valid.csv')"
      ],
      "execution_count": null,
      "outputs": []
    },
    {
      "cell_type": "code",
      "metadata": {
        "id": "6DBJCAzAbquu"
      },
      "source": [
        "gene_test = gene2.drop(columns = [\"Cancer_Type\", \"Sample_ID\"])"
      ],
      "execution_count": null,
      "outputs": []
    },
    {
      "cell_type": "code",
      "metadata": {
        "id": "rjBU7REaym0M"
      },
      "source": [
        "id = '1kHr-g60285ylV5VNJQpAnqfXWJC9pWUy'\n",
        "downloaded = drive.CreateFile({'id':id}) \n",
        "downloaded.GetContentFile('pro.train.csv')\n",
        "pro1 = pd.read_csv('pro.train.csv')"
      ],
      "execution_count": null,
      "outputs": []
    },
    {
      "cell_type": "code",
      "metadata": {
        "id": "AM-Oo6--NNh1"
      },
      "source": [
        "pro_train = pro1.drop(columns = [\"Cancer_Type\", \"Sample_ID\"])"
      ],
      "execution_count": null,
      "outputs": []
    },
    {
      "cell_type": "code",
      "metadata": {
        "id": "ydNAXpojceLp"
      },
      "source": [
        "id = '1JHJEPZi5OJkMjieZT8rcSb9W8bzRPQbg'\n",
        "downloaded = drive.CreateFile({'id':id}) \n",
        "downloaded.GetContentFile('pro.valid.csv')\n",
        "pro2 = pd.read_csv('pro.valid.csv')"
      ],
      "execution_count": null,
      "outputs": []
    },
    {
      "cell_type": "code",
      "metadata": {
        "id": "0x6NJ-d4dOiR"
      },
      "source": [
        "pro_test = pro2.drop(columns = [\"Cancer_Type\", \"Sample_ID\"])"
      ],
      "execution_count": null,
      "outputs": []
    },
    {
      "cell_type": "code",
      "metadata": {
        "id": "aqFzK3APtqWV"
      },
      "source": [
        "train_x = gene_train.to_numpy()\n",
        "test_x = gene_test.to_numpy()\n",
        "train_y = pro_train.to_numpy()\n",
        "test_y = pro_test.to_numpy()"
      ],
      "execution_count": null,
      "outputs": []
    },
    {
      "cell_type": "code",
      "metadata": {
        "colab": {
          "base_uri": "https://localhost:8080/"
        },
        "id": "KSpzNe84pXtx",
        "outputId": "9316786b-20cc-47d5-c407-3e339d91535d"
      },
      "source": [
        "print(train_x.shape, test_x.shape)\n",
        "print(train_y.shape, test_y.shape)"
      ],
      "execution_count": null,
      "outputs": [
        {
          "output_type": "stream",
          "text": [
            "(5738, 19420) (673, 19420)\n",
            "(5738, 216) (673, 216)\n"
          ],
          "name": "stdout"
        }
      ]
    },
    {
      "cell_type": "code",
      "metadata": {
        "id": "lZC3UD2TyuRs"
      },
      "source": [
        "pred_test = []\n",
        "pred_train = []\n",
        "for i in range(test_y.shape[1]):\n",
        "  print(i)\n",
        "  xg_reg = xgb.XGBRegressor(n_estimators=15, nthread=4, eta=0.01, gamma=1, max_depth=7, min_child_weight=2, subsample=0.9, colsample_bytree=1, alpha=0.005, seed=27)\n",
        "  xg_reg.fit(train_x,train_y[:, i])\n",
        "  pred_t = xg_reg.predict(test_x)\n",
        "  pred_test.append(pred_t)\n",
        "  pred_tr = xg_reg.predict(train_x)\n",
        "  pred_train.append(pred_tr)"
      ],
      "execution_count": null,
      "outputs": []
    },
    {
      "cell_type": "code",
      "metadata": {
        "colab": {
          "base_uri": "https://localhost:8080/"
        },
        "id": "6ZgBYtMR4n1e",
        "outputId": "d6a7bc75-4455-4542-8cf8-5c6ee7b8cdf5"
      },
      "source": [
        "from sklearn.metrics import mean_squared_error,median_absolute_error,mean_absolute_error,explained_variance_score,r2_score\n",
        "from math import sqrt\n",
        "\n",
        "pt = np.asarray(pred_train).transpose()\n",
        "\n",
        "print(\"mean_squared_error\",mean_squared_error(train_y,pt))\n",
        "print(\"r2_score\",r2_score(train_y,pt))"
      ],
      "execution_count": null,
      "outputs": [
        {
          "output_type": "stream",
          "text": [
            "mean_squared_error 0.37400906465048656\n",
            "r2_score -0.23615042723231167\n"
          ],
          "name": "stdout"
        }
      ]
    },
    {
      "cell_type": "code",
      "metadata": {
        "colab": {
          "base_uri": "https://localhost:8080/"
        },
        "id": "n2OFXIpi0BQf",
        "outputId": "54a26bfc-45e3-4325-9152-c6439eee5686"
      },
      "source": [
        "p = np.asarray(pred_test).transpose()\n",
        "\n",
        "print(\"explained_variance_score\",explained_variance_score(test_y,p))\n",
        "print(\"median_absolute_error\",median_absolute_error(test_y,p))\n",
        "print(\"r2_score\",r2_score(test_y,p))\n",
        "print(\"RMSE\",sqrt(mean_squared_error(test_y,p)))\n",
        "print(\"mean_absolute_error\",mean_absolute_error(test_y,p))\n",
        "print(\"mean_squared_error\",mean_squared_error(test_y,p))"
      ],
      "execution_count": null,
      "outputs": [
        {
          "output_type": "stream",
          "text": [
            "explained_variance_score 0.22534494095827237\n",
            "median_absolute_error 0.4123692743770529\n",
            "r2_score -0.276672265196186\n",
            "RMSE 0.6301360408129831\n",
            "mean_absolute_error 0.46741672238481763\n",
            "mean_squared_error 0.39707142993146155\n"
          ],
          "name": "stdout"
        }
      ]
    },
    {
      "cell_type": "code",
      "metadata": {
        "colab": {
          "base_uri": "https://localhost:8080/"
        },
        "id": "fYUwvN1lLFDR",
        "outputId": "c7897ce0-518e-4082-ac5c-57e2be4ba217"
      },
      "source": [
        "test_count = len(p)\n",
        "rank  = 0\n",
        "for k in range(test_count):\n",
        "  temp = np.append(test_y, [p[k]], axis=0)\n",
        "  temp = np.array([np.subtract(i, test_y[k]) for i in temp])\n",
        "  temp = np.square(temp)\n",
        "  sum = temp.sum(axis = 1)\n",
        "  arr = np.arange(len(sum))\n",
        "  arr = np.append([sum], [arr], axis=0)\n",
        "  arr = arr[ :, arr[0].argsort()]\n",
        "  rank += np.where(arr[1] == test_count)[0][0]\n",
        "\n",
        "rank /= test_count\n",
        "print(rank)"
      ],
      "execution_count": null,
      "outputs": [
        {
          "output_type": "stream",
          "text": [
            "18.705794947994058\n"
          ],
          "name": "stdout"
        }
      ]
    }
  ]
}