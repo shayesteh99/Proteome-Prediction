{
  "nbformat": 4,
  "nbformat_minor": 0,
  "metadata": {
    "colab": {
      "name": "MVR.ipynb",
      "provenance": [],
      "authorship_tag": "ABX9TyPWwWUL5UxqoiZpXqtaw9Kr",
      "include_colab_link": true
    },
    "kernelspec": {
      "name": "python3",
      "display_name": "Python 3"
    }
  },
  "cells": [
    {
      "cell_type": "markdown",
      "metadata": {
        "id": "view-in-github",
        "colab_type": "text"
      },
      "source": [
        "<a href=\"https://colab.research.google.com/github/shayesteh99/Proteome-Prediction/blob/main/MVR.ipynb\" target=\"_parent\"><img src=\"https://colab.research.google.com/assets/colab-badge.svg\" alt=\"Open In Colab\"/></a>"
      ]
    },
    {
      "cell_type": "code",
      "metadata": {
        "id": "RJpCngc4GKy0"
      },
      "source": [
        "import pandas as pd\n",
        "from datetime import datetime\n",
        "import numpy as np\n",
        "from sklearn.linear_model import LinearRegression\n",
        "from sklearn.metrics import mean_squared_error, mean_absolute_error\n",
        "import matplotlib.pyplot as plt\n",
        "from sklearn.preprocessing import normalize\n",
        "import xgboost as xgb\n",
        "from sklearn.model_selection import train_test_split"
      ],
      "execution_count": null,
      "outputs": []
    },
    {
      "cell_type": "code",
      "metadata": {
        "id": "os7nYMZ9HGpv"
      },
      "source": [
        "!pip install -U -q PyDrive\n",
        "from pydrive.auth import GoogleAuth\n",
        "from pydrive.drive import GoogleDrive\n",
        "from google.colab import auth\n",
        "from oauth2client.client import GoogleCredentials# Authenticate and create the PyDrive client.\n",
        "\n",
        "auth.authenticate_user()\n",
        "gauth = GoogleAuth()\n",
        "gauth.credentials = GoogleCredentials.get_application_default()\n",
        "drive = GoogleDrive(gauth)"
      ],
      "execution_count": null,
      "outputs": []
    },
    {
      "cell_type": "code",
      "metadata": {
        "id": "W7edzO-jc9L1"
      },
      "source": [
        "id = \"1mNeCaxTgu0-toE0KJRixGvzCqsgwD-8M\"\n",
        "downloaded = drive.CreateFile({'id':id}) \n",
        "downloaded.GetContentFile('gene.exp.proteincodeAll.omitzero.csv')\n",
        "omit_zero = pd.read_csv('gene.exp.proteincodeAll.omitzero.csv')"
      ],
      "execution_count": null,
      "outputs": []
    },
    {
      "cell_type": "code",
      "metadata": {
        "id": "912k_AUldPIk"
      },
      "source": [
        "gene = omit_zero.drop(columns = [\"Cancer_Type\", \"Sample_ID\"])"
      ],
      "execution_count": null,
      "outputs": []
    },
    {
      "cell_type": "code",
      "metadata": {
        "id": "kMumzjXOHa3x"
      },
      "source": [
        "id = \"1OSTvlL4jnS3s9qqsECR1dbsIN2oS-hCg\"\n",
        "downloaded = drive.CreateFile({'id':id}) \n",
        "downloaded.GetContentFile('gene.exp1.csv')  \n",
        "gene_1 = pd.read_csv('gene.exp1.csv')"
      ],
      "execution_count": null,
      "outputs": []
    },
    {
      "cell_type": "code",
      "metadata": {
        "id": "_jFaAliKHqq2"
      },
      "source": [
        "gene1 = gene_1.drop(columns = [\"Cancer_Type\", \"Sample_ID\"])"
      ],
      "execution_count": null,
      "outputs": []
    },
    {
      "cell_type": "code",
      "metadata": {
        "id": "Pv8uRieeHsFg"
      },
      "source": [
        "id = '1lHfBKYnTspUvUP0K3GTOu12LuWJRsRxb'\n",
        "downloaded = drive.CreateFile({'id':id}) \n",
        "downloaded.GetContentFile('gene.exp2.csv')  \n",
        "gene_2 = pd.read_csv('gene.exp2.csv')"
      ],
      "execution_count": null,
      "outputs": []
    },
    {
      "cell_type": "code",
      "metadata": {
        "id": "fOQGQn8OH3Y8"
      },
      "source": [
        "gene2 = gene_2.drop(columns = [\"Cancer_Type\", \"Sample_ID\"])"
      ],
      "execution_count": null,
      "outputs": []
    },
    {
      "cell_type": "code",
      "metadata": {
        "id": "lktyDqlyH5No"
      },
      "source": [
        "id = '1m88M2hdXKlI10-r3SXBosZh1IC88lF6o'\n",
        "downloaded = drive.CreateFile({'id':id}) \n",
        "downloaded.GetContentFile('gene.exp3.csv')  \n",
        "gene_3 = pd.read_csv('gene.exp3.csv')"
      ],
      "execution_count": null,
      "outputs": []
    },
    {
      "cell_type": "code",
      "metadata": {
        "id": "-nyUfnaYH7Pq"
      },
      "source": [
        "gene3 = gene_3.drop(columns = [\"Cancer_Type\", \"Sample_ID\"])"
      ],
      "execution_count": null,
      "outputs": []
    },
    {
      "cell_type": "code",
      "metadata": {
        "id": "nbrwhyFbH9bl"
      },
      "source": [
        "id = '1G5u4z7Eq15z8fgwZy5iAPnOHpZ0ZOAj0'\n",
        "downloaded = drive.CreateFile({'id':id}) \n",
        "downloaded.GetContentFile('gene.exp4.csv')  \n",
        "gene_4 = pd.read_csv('gene.exp4.csv')"
      ],
      "execution_count": null,
      "outputs": []
    },
    {
      "cell_type": "code",
      "metadata": {
        "id": "rvl1r_5sIA7P"
      },
      "source": [
        "gene4 = gene_4.drop(columns = [\"Cancer_Type\", \"Sample_ID\"])"
      ],
      "execution_count": null,
      "outputs": []
    },
    {
      "cell_type": "code",
      "metadata": {
        "id": "HuyZU385IBie"
      },
      "source": [
        "id = '1ZcUmJ5CF4hjqKXwYy02m0bkkPFV2ql8p'\n",
        "downloaded = drive.CreateFile({'id':id}) \n",
        "downloaded.GetContentFile('gene.exp5.csv')  \n",
        "gene_5 = pd.read_csv('gene.exp5.csv')"
      ],
      "execution_count": null,
      "outputs": []
    },
    {
      "cell_type": "code",
      "metadata": {
        "id": "c7Fb-tiIIFN-"
      },
      "source": [
        "gene5 = gene_5.drop(columns = [\"Cancer_Type\", \"Sample_ID\"])"
      ],
      "execution_count": null,
      "outputs": []
    },
    {
      "cell_type": "code",
      "metadata": {
        "id": "MHXoKMcXeLjT"
      },
      "source": [
        "id = '1V0LLN75AftUyL6rNwfrBIcJMSR2VhVZC'\n",
        "downloaded = drive.CreateFile({'id':id}) \n",
        "downloaded.GetContentFile('gene.exp6.csv')  \n",
        "gene_6 = pd.read_csv('gene.exp6.csv')"
      ],
      "execution_count": null,
      "outputs": []
    },
    {
      "cell_type": "code",
      "metadata": {
        "id": "lTYyWzfGeQTB"
      },
      "source": [
        "gene6 = gene_6.drop(columns = [\"Cancer_Type\", \"Sample_ID\"])"
      ],
      "execution_count": null,
      "outputs": []
    },
    {
      "cell_type": "code",
      "metadata": {
        "id": "eKH-6uz_eSlO"
      },
      "source": [
        "id = '1GP8m3iRM_f9s-XPEuV_wqlF2Z5M0PJqK'\n",
        "downloaded = drive.CreateFile({'id':id}) \n",
        "downloaded.GetContentFile('gene.exp7.csv')  \n",
        "gene_7 = pd.read_csv('gene.exp7.csv')"
      ],
      "execution_count": null,
      "outputs": []
    },
    {
      "cell_type": "code",
      "metadata": {
        "id": "SCtof7MQeSw1"
      },
      "source": [
        "gene7 = gene_7.drop(columns = [\"Cancer_Type\", \"Sample_ID\"])"
      ],
      "execution_count": null,
      "outputs": []
    },
    {
      "cell_type": "code",
      "metadata": {
        "id": "kYuIY0EKeYwk"
      },
      "source": [
        "id = '1Y0PK9HMrvgZBF24SrICmRbAZJmiNLiaJ'\n",
        "downloaded = drive.CreateFile({'id':id}) \n",
        "downloaded.GetContentFile('gene.exp8.csv')  \n",
        "gene_8 = pd.read_csv('gene.exp8.csv')"
      ],
      "execution_count": null,
      "outputs": []
    },
    {
      "cell_type": "code",
      "metadata": {
        "id": "XWQpuAX8eeBh"
      },
      "source": [
        "gene8 = gene_8.drop(columns = [\"Cancer_Type\", \"Sample_ID\"])"
      ],
      "execution_count": null,
      "outputs": []
    },
    {
      "cell_type": "code",
      "metadata": {
        "id": "t9K2if3CIHVM"
      },
      "source": [
        "gene = gene1.append(gene2).reset_index(drop = 'True')\n",
        "gene = gene.append(gene3).reset_index(drop = 'True')\n",
        "gene = gene.append(gene4).reset_index(drop = 'True')\n",
        "gene = gene.append(gene5).reset_index(drop = 'True')\n",
        "gene = gene.append(gene6).reset_index(drop = 'True')\n",
        "gene = gene.append(gene7).reset_index(drop = 'True')\n",
        "gene = gene.append(gene8).reset_index(drop = 'True')\n",
        "gene = gene.drop(columns=gene.columns[(gene == 0).any()])"
      ],
      "execution_count": null,
      "outputs": []
    },
    {
      "cell_type": "code",
      "metadata": {
        "id": "qw7RBA8OIUkW"
      },
      "source": [
        "id = '1NzOt6dy1Yfqidkrhs_QwxqFbxo3REbzm'\n",
        "downloaded = drive.CreateFile({'id':id}) \n",
        "downloaded.GetContentFile('pro.exp.mapped.all.sort.csv')  \n",
        "protein = pd.read_csv('pro.exp.mapped.all.sort.csv')\n",
        "pro = protein.drop(columns = [\"Cancer_Type\", \"Sample_ID\"])"
      ],
      "execution_count": null,
      "outputs": []
    },
    {
      "cell_type": "code",
      "metadata": {
        "id": "oD0RWuAWhACD"
      },
      "source": [
        "gene = gene.to_numpy()\n",
        "pro = pro.to_numpy()\n",
        "train_x, test_x, train_y, test_y = train_test_split(gene, pro, test_size=0.1)"
      ],
      "execution_count": null,
      "outputs": []
    },
    {
      "cell_type": "code",
      "metadata": {
        "id": "pFwb_JeYIVYk"
      },
      "source": [
        "indices = np.arange(gene.shape[0])\n",
        "indices = indices[0:gene.shape[0]]\n",
        "np.random.shuffle(indices)\n",
        "gene = gene.reindex(indices)\n",
        "pro = pro.reindex(indices)\n",
        "\n",
        "# gene = normalize(X=gene, axis=0, norm=\"max\")\n",
        "gene = gene.to_numpy()\n",
        "# pro = normalize(X=pro, axis=0, norm=\"max\")\n",
        "pro = pro.to_numpy()\n",
        "\n",
        "\n",
        "train_x = gene[:5600]\n",
        "test_x = gene[5600:]\n",
        "train_y = pro[:5600]\n",
        "test_y = pro[5600:]\n"
      ],
      "execution_count": null,
      "outputs": []
    },
    {
      "cell_type": "code",
      "metadata": {
        "colab": {
          "base_uri": "https://localhost:8080/"
        },
        "id": "01Z5uJssLlQ0",
        "outputId": "0a959fb9-c712-4e9e-87f1-68ff327ff8c8"
      },
      "source": [
        "model = LinearRegression()\n",
        "lr = model.fit(train_x, train_y)\n",
        "print(lr.score(train_x, train_y))"
      ],
      "execution_count": null,
      "outputs": [
        {
          "output_type": "stream",
          "text": [
            "1.0\n"
          ],
          "name": "stdout"
        },
        {
          "output_type": "stream",
          "text": [
            "/usr/local/lib/python3.6/dist-packages/sklearn/base.py:434: FutureWarning: The default value of multioutput (not exposed in score method) will change from 'variance_weighted' to 'uniform_average' in 0.23 to keep consistent with 'metrics.r2_score'. To specify the default value manually and avoid the warning, please either call 'metrics.r2_score' directly or make a custom scorer with 'metrics.make_scorer' (the built-in scorer 'r2' uses multioutput='uniform_average').\n",
            "  \"multioutput='uniform_average').\", FutureWarning)\n"
          ],
          "name": "stderr"
        }
      ]
    },
    {
      "cell_type": "code",
      "metadata": {
        "id": "rZl4PmnhNjqg"
      },
      "source": [
        "pred_pro = lr.predict(test_x)"
      ],
      "execution_count": null,
      "outputs": []
    },
    {
      "cell_type": "code",
      "metadata": {
        "colab": {
          "base_uri": "https://localhost:8080/"
        },
        "id": "1B3aSNhmtIsj",
        "outputId": "33ff9bc4-c385-4b66-d23f-08f550fd31a0"
      },
      "source": [
        "print(test_y.shape)"
      ],
      "execution_count": null,
      "outputs": [
        {
          "output_type": "stream",
          "text": [
            "(717, 216)\n"
          ],
          "name": "stdout"
        }
      ]
    },
    {
      "cell_type": "code",
      "metadata": {
        "colab": {
          "base_uri": "https://localhost:8080/"
        },
        "id": "RXZDE0UPPKZz",
        "outputId": "2eb84dae-d8d8-45e2-80e0-571f5110c1c9"
      },
      "source": [
        "mse = mean_squared_error(test_y, pred_pro)\n",
        "print(mse)\n",
        "mae = mean_absolute_error(test_y, pred_pro)\n",
        "print(mae)"
      ],
      "execution_count": null,
      "outputs": [
        {
          "output_type": "stream",
          "text": [
            "1.041495602961126\n",
            "0.6124933953520945\n"
          ],
          "name": "stdout"
        }
      ]
    },
    {
      "cell_type": "code",
      "metadata": {
        "colab": {
          "base_uri": "https://localhost:8080/"
        },
        "id": "hWUUiNqjNyNZ",
        "outputId": "015f1019-70eb-4300-bc07-b42489df3a65"
      },
      "source": [
        "p = pred_pro\n",
        "rank  = 0\n",
        "for k in range(len(p)):\n",
        "  temp = np.vstack((test_y, p[k]))\n",
        "  for i in range(temp.shape[0]):\n",
        "    temp[i] = np.subtract(temp[i], test_y[k])\n",
        "  temp = np.square(temp)\n",
        "  sum = temp.sum(axis = 1)\n",
        "  # print(sum[p.shape[0]])\n",
        "  arr = []\n",
        "  for i in range(len(sum)):\n",
        "    arr.append((sum[i], i))\n",
        "  arr = sorted(arr, key=lambda x: x[0])\n",
        "  for i in range(len(arr)):\n",
        "    if arr[i][1] == p.shape[0]:\n",
        "      rank += i\n",
        "      break\n",
        "\n",
        "rank /= p.shape[0]\n",
        "print(rank)"
      ],
      "execution_count": null,
      "outputs": [
        {
          "output_type": "stream",
          "text": [
            "248.0516039051604\n"
          ],
          "name": "stdout"
        }
      ]
    }
  ]
}